{
  "nbformat": 4,
  "nbformat_minor": 0,
  "metadata": {
    "colab": {
      "provenance": [],
      "authorship_tag": "ABX9TyNfSI7dB7cbL2UUhc0fOO5B",
      "include_colab_link": true
    },
    "kernelspec": {
      "name": "python3",
      "display_name": "Python 3"
    },
    "language_info": {
      "name": "python"
    }
  },
  "cells": [
    {
      "cell_type": "markdown",
      "metadata": {
        "id": "view-in-github",
        "colab_type": "text"
      },
      "source": [
        "<a href=\"https://colab.research.google.com/github/nattapon44/AIPrototype2023/blob/main/web_service_request.ipynb\" target=\"_parent\"><img src=\"https://colab.research.google.com/assets/colab-badge.svg\" alt=\"Open In Colab\"/></a>"
      ]
    },
    {
      "cell_type": "code",
      "execution_count": 2,
      "metadata": {
        "id": "_nFFKNxphvSj"
      },
      "outputs": [],
      "source": [
        "import requests\n",
        "import json"
      ]
    },
    {
      "cell_type": "code",
      "source": [
        "url = 'http://20.24.154.68:5001/request'\n",
        "myobj = {'message_key': 'message_val',\n",
        "         'msg':'สวัสดีไทยแลนด์'}\n",
        "x = requests.post(url, data = json.dumps(myobj))"
      ],
      "metadata": {
        "id": "zabGp8i_h4Mh"
      },
      "execution_count": 4,
      "outputs": []
    },
    {
      "cell_type": "code",
      "source": [],
      "metadata": {
        "id": "OsYDf1yAijKr"
      },
      "execution_count": null,
      "outputs": []
    }
  ]
}